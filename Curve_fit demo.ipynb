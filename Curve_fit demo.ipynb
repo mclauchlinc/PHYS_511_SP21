{
 "cells": [
  {
   "cell_type": "code",
   "execution_count": null,
   "metadata": {},
   "outputs": [],
   "source": [
    "import numpy as np\n",
    "import matplotlib.pyplot as plt\n",
    "import scipy.optimize as op"
   ]
  },
  {
   "cell_type": "code",
   "execution_count": null,
   "metadata": {},
   "outputs": [],
   "source": [
    "#define a function that just takes in raw numbers\n",
    "def gaus_n(x, a, mu, sig):\n",
    "    return a*np.exp(-((x-mu)/sig)**2)\n",
    "\n",
    "#Define a function that takes in an array and outputs an array\n",
    "def gaus(x, a, mu, sig):\n",
    "    out=[]\n",
    "    for i in range(len(x)):\n",
    "        out.append(gaus_n(x[i],a,mu,sig))\n",
    "    return out"
   ]
  },
  {
   "cell_type": "code",
   "execution_count": null,
   "metadata": {},
   "outputs": [],
   "source": [
    "#Initial parameters\n",
    "ini_par=[10.,13.,4.]\n",
    "xdata=[i for i in range(20)]\n",
    "#Randomize some noise\n",
    "noise=np.random.normal(0., 1., 20)\n",
    "ydata=gaus(xdata,ini_par[0],ini_par[1],ini_par[2])+noise\n",
    "#Plot noisy gaussian\n",
    "plt.scatter(xdata,ydata,color='r',label=\"noisy gaus\")\n",
    "#Perform the fit on the x and y data with a function and an initial guess\n",
    "#curve_fit will need a function that takes in arrays and outputs arrays\n",
    "par, par_cov = op.curve_fit(gaus,xdata,ydata,p0=ini_par,maxfev=5000)\n",
    "#define a \"continuous\" x space\n",
    "x_cont = np.linspace(0.,19.,100)\n",
    "#Plot the fitted gaussian\n",
    "#Plotting a function requires it to take in arrays and output arrays\n",
    "plt.plot(x_cont,gaus(x_cont,par[0],par[1],par[2]),label=\"fitted gaus\")\n",
    "#Print parameters found \n",
    "plt.legend()\n",
    "print(par)"
   ]
  },
  {
   "cell_type": "code",
   "execution_count": null,
   "metadata": {},
   "outputs": [],
   "source": []
  }
 ],
 "metadata": {
  "kernelspec": {
   "display_name": "Python 3",
   "language": "python",
   "name": "python3"
  },
  "language_info": {
   "codemirror_mode": {
    "name": "ipython",
    "version": 3
   },
   "file_extension": ".py",
   "mimetype": "text/x-python",
   "name": "python",
   "nbconvert_exporter": "python",
   "pygments_lexer": "ipython3",
   "version": "3.8.6"
  }
 },
 "nbformat": 4,
 "nbformat_minor": 4
}
