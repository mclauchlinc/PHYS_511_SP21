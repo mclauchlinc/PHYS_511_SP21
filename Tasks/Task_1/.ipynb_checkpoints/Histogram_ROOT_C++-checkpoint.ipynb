{
 "cells": [
  {
   "cell_type": "code",
   "execution_count": 1,
   "metadata": {},
   "outputs": [],
   "source": [
    "#include \"TCanvas.h\"\n",
    "#include \"TH1.h\"\n",
    "#include \"TRandom3.h\"\n",
    "#include \"TStyle.h\"\n",
    "#include <iostream>\n",
    "\n",
    "void Gaussian() {\n",
    "  // Varibles for the gaussian\n",
    "  int num = 100000;\n",
    "  double mean = 5.0;\n",
    "  double sigma = 1.0;\n",
    "  double thrw = 0;\n",
    "  // Create a random generator\n",
    "  TRandom3 gen(rand());\n",
    "\n",
    "  // Create histogram to fill\n",
    "  TH1F *hist = new TH1F(\"hist\", \"Gaussian\", 100, 0.0, 10.0);\n",
    "  // Define the gui to display the graph and set the display options\n",
    "  TCanvas *c1 = new TCanvas(\"c1\", \"Root Example\", 200, 10, 700, 500);\n",
    "  gStyle->SetOptStat(111);\n",
    "  gStyle->SetOptFit(111);\n",
    "\n",
    "  for (int i = 0; i < num; i++) {\n",
    "    // Throw a normal(gaussian) distrobution\n",
    "    thrw = gen.Gaus(mean, sigma);\n",
    "    // Fill in histogram\n",
    "    hist->Fill(thrw);\n",
    "  }\n",
    "  // Enter the canvas to draw\n",
    "  c1->cd();\n",
    "  // Draw histogram in gui\n",
    "  hist->Draw();\n",
    "  // Fit gaussian to the histogram\n",
    "  hist->Fit(\"gaus\");\n",
    "  c1->Draw();\n",
    "  c1->Print();\n",
    "  delete c1;\n",
    "}\n",
    "//This will produce a .ps file that contains your histogram in all its glory, but it will not show up in the Jupyter Notebook"
   ]
  },
  {
   "cell_type": "code",
   "execution_count": 2,
   "metadata": {},
   "outputs": [
    {
     "name": "stdout",
     "output_type": "stream",
     "text": [
      " FCN=70.2488 FROM MIGRAD    STATUS=CONVERGED      57 CALLS          58 TOTAL\n",
      "                     EDM=1.906e-07    STRATEGY= 1      ERROR MATRIX ACCURATE \n",
      "  EXT PARAMETER                                   STEP         FIRST   \n",
      "  NO.   NAME      VALUE            ERROR          SIZE      DERIVATIVE \n",
      "   1  Constant     3.98390e+03   1.54088e+01   5.19422e-02  -1.02582e-06\n",
      "   2  Mean         5.00149e+00   3.16689e-03   1.30521e-05  -1.94321e-01\n",
      "   3  Sigma        1.00072e+00   2.22852e-03   2.50078e-06  -7.10828e-02\n"
     ]
    },
    {
     "name": "stderr",
     "output_type": "stream",
     "text": [
      "Info in <TCanvas::Print>: ps file c1.ps has been created\n"
     ]
    }
   ],
   "source": [
    "Gaussian()"
   ]
  },
  {
   "cell_type": "code",
   "execution_count": null,
   "metadata": {},
   "outputs": [],
   "source": []
  }
 ],
 "metadata": {
  "kernelspec": {
   "display_name": "ROOT C++",
   "language": "c++",
   "name": "root"
  },
  "language_info": {
   "codemirror_mode": "text/x-c++src",
   "file_extension": ".C",
   "mimetype": " text/x-c++src",
   "name": "c++"
  }
 },
 "nbformat": 4,
 "nbformat_minor": 4
}
