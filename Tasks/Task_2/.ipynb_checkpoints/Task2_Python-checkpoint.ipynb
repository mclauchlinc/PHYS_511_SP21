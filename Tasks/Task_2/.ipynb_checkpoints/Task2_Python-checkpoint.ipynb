{
 "cells": [
  {
   "cell_type": "code",
   "execution_count": 3,
   "metadata": {},
   "outputs": [],
   "source": [
    "import numpy as np\n",
    "import matplotlib.pyplot as plt"
   ]
  },
  {
   "cell_type": "code",
   "execution_count": 4,
   "metadata": {},
   "outputs": [],
   "source": [
    "# Reading the data is done for you\n",
    "def read_file(file_name = 'distribution.dat'):\n",
    "    # Read in data file distribution.dat\n",
    "    with open(file_name) as distribution:\n",
    "        #Stores the lines as an array of strings with each line an element\n",
    "        data = distribution.readlines()\n",
    "    \n",
    "    return data"
   ]
  },
  {
   "cell_type": "code",
   "execution_count": 5,
   "metadata": {},
   "outputs": [],
   "source": [
    "# Reading in the data\n",
    "data = read_file('distribution.dat')\n",
    "\n",
    "## convert the data which is strings to floats\n",
    "input_data = [np.float(d) for d in data]\n",
    "## This is a python shorthand for filling an array with a for loop\n",
    "## Equivalent to:\n",
    "#\n",
    "# input_data = []\n",
    "# for d in data:\n",
    "#     input_data.append(np.float(d))"
   ]
  },
  {
   "cell_type": "code",
   "execution_count": 12,
   "metadata": {},
   "outputs": [],
   "source": [
    "def data_limits(data,low=-1.0,high=0.75):\n",
    "    new_data=[]\n",
    "    for i in range(len(data)):\n",
    "        if data[i]>low and data[i]<high:\n",
    "            new_data.append(data[i])\n",
    "    return new_data"
   ]
  },
  {
   "cell_type": "code",
   "execution_count": 19,
   "metadata": {},
   "outputs": [],
   "source": [
    "def plot_data(data):\n",
    "    # TODO: \n",
    "    # 1) Take in the vector of data and make a histogram\n",
    "    # 2) Draw it\n",
    "    # 3) Fit it with a gaussian\n",
    "    plt.hist(data)\n",
    "    plt.show()\n",
    "    \n",
    "    return\n",
    "\n",
    "def print_data(data):\n",
    "    # Prints the first 10 values\n",
    "    # Change it to this to get the full list of data\n",
    "    # for d in data:\n",
    "    for d in data[0:10]:\n",
    "        print(d)"
   ]
  },
  {
   "cell_type": "code",
   "execution_count": 21,
   "metadata": {},
   "outputs": [
    {
     "data": {
      "image/png": "[encoded data removed]",
      "text/plain": [
       "<Figure size 432x288 with 1 Axes>"
      ]
     },
     "metadata": {
      "needs_background": "light"
     },
     "output_type": "display_data"
    },
    {
     "name": "stdout",
     "output_type": "stream",
     "text": [
      "0.842584\n",
      "0.917038\n",
      "0.920762\n",
      "0.943966\n",
      "1.03399\n",
      "1.03349\n",
      "1.01662\n",
      "0.874447\n",
      "0.911717\n",
      "0.832752\n"
     ]
    }
   ],
   "source": [
    "plot_data(input_data)\n",
    "print_data(input_data)"
   ]
  },
  {
   "cell_type": "code",
   "execution_count": null,
   "metadata": {},
   "outputs": [],
   "source": []
  }
 ],
 "metadata": {
  "kernelspec": {
   "display_name": "Python 3",
   "language": "python",
   "name": "python3"
  },
  "language_info": {
   "codemirror_mode": {
    "name": "ipython",
    "version": 3
   },
   "file_extension": ".py",
   "mimetype": "text/x-python",
   "name": "python",
   "nbconvert_exporter": "python",
   "pygments_lexer": "ipython3",
   "version": "3.8.6"
  }
 },
 "nbformat": 4,
 "nbformat_minor": 4
}
